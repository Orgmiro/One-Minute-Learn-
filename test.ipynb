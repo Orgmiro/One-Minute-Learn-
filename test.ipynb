{
 "cells": [
  {
   "cell_type": "code",
   "execution_count": 1,
   "metadata": {},
   "outputs": [
    {
     "name": "stdout",
     "output_type": "stream",
     "text": [
      "Hello miro\n"
     ]
    },
    {
     "name": "stdout",
     "output_type": "stream",
     "text": [
      "Hello miro\n"
     ]
    }
   ],
   "source": [
    "print(\"Hello miro\")\n"
   ]
  },
  {
   "cell_type": "code",
   "execution_count": 2,
   "metadata": {},
   "outputs": [
    {
     "name": "stdout",
     "output_type": "stream",
     "text": [
      "hello world\n"
     ]
    }
   ],
   "source": [
    "print(\"hello world\") # in-line comment\n"
   ]
  },
  {
   "cell_type": "code",
   "execution_count": 3,
   "metadata": {},
   "outputs": [
    {
     "name": "stdout",
     "output_type": "stream",
     "text": [
      "hello world\n",
      "Hello World ! 123\n",
      "Hello-World-!-123\n",
      "Hello\n",
      "World\n",
      "!\n",
      "123\n",
      "HelloskyeWorldskye!skye123\n"
     ]
    }
   ],
   "source": [
    "print(\"hello world\")\n",
    "print(\"Hello\", \"World\", \"!\", \"123\")\n",
    "print(\"Hello\", \"World\", \"!\", \"123\", sep=\"-\")\n",
    "print(\"Hello\", \"World\", \"!\", \"123\", sep=\"\\n\")\n",
    "print(\"Hello\", \"World\", \"!\", \"123\", sep=\"skye\")"
   ]
  },
  {
   "cell_type": "code",
   "execution_count": 4,
   "metadata": {},
   "outputs": [],
   "source": [
    "# int\n",
    "1,2,0,-1, -5\n",
    "int()\n",
    "\n",
    "# float \n",
    "1.5, -2, 0.0000\n",
    "float()\n",
    "\n",
    "# string\n",
    "\"Hi\"\n",
    "'Hi'\n",
    "\"\"\"\n",
    "fdslinf \n",
    "\"\"\"\n",
    "str ()\n",
    "\n",
    "# boolean\n",
    "True, False\n",
    "bool ()\n",
    "\n",
    "\n",
    "# Nonetypes\n",
    "None\n"
   ]
  },
  {
   "cell_type": "code",
   "execution_count": 5,
   "metadata": {},
   "outputs": [
    {
     "name": "stdout",
     "output_type": "stream",
     "text": [
      "<class 'float'>\n"
     ]
    },
    {
     "data": {
      "text/plain": [
       "True"
      ]
     },
     "execution_count": 5,
     "metadata": {},
     "output_type": "execute_result"
    }
   ],
   "source": [
    "print(type(0.0))\n",
    "isinstance(-1, int)\n",
    "isinstance(True, int)"
   ]
  },
  {
   "cell_type": "code",
   "execution_count": null,
   "metadata": {},
   "outputs": [],
   "source": [
    "age = 24\n"
   ]
  },
  {
   "cell_type": "code",
   "execution_count": 1,
   "metadata": {},
   "outputs": [],
   "source": [
    "a = 1\n",
    "b = 2 \n",
    "\n",
    "first_number = 1\n",
    "second_number = 2 \n"
   ]
  },
  {
   "cell_type": "markdown",
   "metadata": {},
   "source": [
    "name = \"fjdl\" # ok! \n",
    "Age = 17 # bad \n",
    "first_number = 1 # ok!\n",
    "# 1var\n"
   ]
  },
  {
   "cell_type": "code",
   "execution_count": null,
   "metadata": {},
   "outputs": [],
   "source": [
    "Input Section"
   ]
  },
  {
   "cell_type": "code",
   "execution_count": null,
   "metadata": {},
   "outputs": [],
   "source": []
  },
  {
   "cell_type": "code",
   "execution_count": 10,
   "metadata": {},
   "outputs": [
    {
     "name": "stdout",
     "output_type": "stream",
     "text": [
      "Hello, welcome miro \n"
     ]
    }
   ],
   "source": [
    "name_input = input()\n",
    "print(\"Hello, welcome\", name_input ) \n"
   ]
  },
  {
   "cell_type": "code",
   "execution_count": 12,
   "metadata": {},
   "outputs": [],
   "source": [
    "# int ()\n",
    "a = int(\"4\")"
   ]
  },
  {
   "cell_type": "code",
   "execution_count": 13,
   "metadata": {},
   "outputs": [
    {
     "ename": "NameError",
     "evalue": "name 'true' is not defined",
     "output_type": "error",
     "traceback": [
      "\u001b[0;31m---------------------------------------------------------------------------\u001b[0m",
      "\u001b[0;31mNameError\u001b[0m                                 Traceback (most recent call last)",
      "Cell \u001b[0;32mIn[13], line 3\u001b[0m\n\u001b[1;32m      1\u001b[0m \u001b[38;5;66;03m# float ()\u001b[39;00m\n\u001b[1;32m      2\u001b[0m a \u001b[38;5;241m=\u001b[39m \u001b[38;5;28mfloat\u001b[39m (\u001b[38;5;124m\"\u001b[39m\u001b[38;5;124m-2\u001b[39m\u001b[38;5;124m\"\u001b[39m)\n\u001b[0;32m----> 3\u001b[0m a \u001b[38;5;241m=\u001b[39m \u001b[38;5;28mfloat\u001b[39m (\u001b[43mtrue\u001b[49m)\n",
      "\u001b[0;31mNameError\u001b[0m: name 'true' is not defined"
     ]
    }
   ],
   "source": [
    "# float ()\n",
    "a = float (\"-2\")\n",
    "a = float (true)\n"
   ]
  },
  {
   "cell_type": "code",
   "execution_count": 17,
   "metadata": {},
   "outputs": [],
   "source": [
    "# bool ()\n",
    "a = bool (1)\n",
    "a = bool (-2)\n",
    "a = bool (\"\")\n",
    "a = bool (None)"
   ]
  },
  {
   "cell_type": "code",
   "execution_count": 19,
   "metadata": {},
   "outputs": [],
   "source": [
    "# str()\n",
    "a = str(1)\n",
    "a = str(True)\n",
    "a = str(2,5 )\n",
    "print (a)"
   ]
  },
  {
   "cell_type": "markdown",
   "metadata": {},
   "source": [
    "May Operation \n"
   ]
  },
  {
   "cell_type": "code",
   "execution_count": 33,
   "metadata": {},
   "outputs": [
    {
     "data": {
      "text/plain": [
       "0.10000000000000053"
      ]
     },
     "execution_count": 33,
     "metadata": {},
     "output_type": "execute_result"
    }
   ],
   "source": [
    "a = 1 + 1 \n",
    "a = 6 - 3 \n",
    "a = 4 * 5 \n",
    "a = 6 / 3 \n",
    "a = 7 // 4 \n",
    "a = 2 ** 3 \n",
    "a = 54 % 5 \n",
    "a = 32.2 % 3\n",
    "a = 10 % 3.3 \n",
    "a "
   ]
  },
  {
   "cell_type": "code",
   "execution_count": 35,
   "metadata": {},
   "outputs": [
    {
     "data": {
      "text/plain": [
       "1"
      ]
     },
     "execution_count": 35,
     "metadata": {},
     "output_type": "execute_result"
    }
   ],
   "source": [
    "a = 0 ** 0\n",
    "a"
   ]
  },
  {
   "cell_type": "code",
   "execution_count": 42,
   "metadata": {},
   "outputs": [
    {
     "name": "stdout",
     "output_type": "stream",
     "text": [
      "8 10\n"
     ]
    }
   ],
   "source": [
    "a = 4 + 4 \n",
    "b = 4 + 6 \n",
    "z = a * b \n",
    "a = b / a \n",
    "print( a, b)\n",
    "\n"
   ]
  },
  {
   "cell_type": "code",
   "execution_count": null,
   "metadata": {},
   "outputs": [],
   "source": [
    "2 > 3 \n",
    "a < 7 \n",
    "a == 5 \n",
    "a >= 5\n",
    "a = 5 \n",
    "print "
   ]
  },
  {
   "cell_type": "code",
   "execution_count": 49,
   "metadata": {},
   "outputs": [],
   "source": []
  },
  {
   "cell_type": "markdown",
   "metadata": {},
   "source": [
    "# Header Day 4 "
   ]
  },
  {
   "cell_type": "markdown",
   "metadata": {},
   "source": [
    "# ------"
   ]
  },
  {
   "cell_type": "code",
   "execution_count": 54,
   "metadata": {},
   "outputs": [
    {
     "data": {
      "text/plain": [
       "False"
      ]
     },
     "execution_count": 54,
     "metadata": {},
     "output_type": "execute_result"
    }
   ],
   "source": [
    "a = 5 \n",
    "\n",
    "2 > 3 # False \n",
    "3 == 3 != 3 \n",
    "\n",
    "\n"
   ]
  },
  {
   "cell_type": "code",
   "execution_count": 62,
   "metadata": {},
   "outputs": [
    {
     "name": "stdout",
     "output_type": "stream",
     "text": [
      "True\n"
     ]
    }
   ],
   "source": [
    "# and, or, not \n",
    "not True \n",
    "not False \n",
    "True and False \n",
    "False and False \n",
    "2 > 3 and 3 > 2 \n",
    "2 > 1 and 1 > 0\n",
    "\n",
    "# Me or you go to School \n",
    "True or True \n",
    "False or True \n",
    "False or False \n",
    "\n",
    "a = 5 \n",
    "b = 6 \n",
    "print (a != b-1 or b**2 > a)\n"
   ]
  },
  {
   "cell_type": "code",
   "execution_count": null,
   "metadata": {},
   "outputs": [],
   "source": [
    "user_input =int(input())\n",
    "print(user_input + 1 )\n"
   ]
  },
  {
   "cell_type": "markdown",
   "metadata": {},
   "source": [
    "## Adder Program "
   ]
  },
  {
   "cell_type": "code",
   "execution_count": 67,
   "metadata": {},
   "outputs": [
    {
     "name": "stdout",
     "output_type": "stream",
     "text": [
      "4\n"
     ]
    }
   ],
   "source": [
    "first_number =int(input()) \n",
    "second_number = int(input())\n",
    "added_result = first_number + second_number\n",
    "print(added_result) \n",
    "\n"
   ]
  },
  {
   "cell_type": "code",
   "execution_count": 68,
   "metadata": {},
   "outputs": [
    {
     "name": "stdout",
     "output_type": "stream",
     "text": [
      "-10\n"
     ]
    }
   ],
   "source": [
    "first_number = int(input(\"enter first number: \"))\n",
    "second_number = int(input(\"enter second number: \"))\n",
    "added_result = first_number - second_number\n",
    "print(added_result )"
   ]
  },
  {
   "cell_type": "code",
   "execution_count": 74,
   "metadata": {},
   "outputs": [
    {
     "name": "stdout",
     "output_type": "stream",
     "text": [
      "48.2\n"
     ]
    }
   ],
   "source": [
    "current_temp = float(input(\"temperature\"))\n",
    "fahrenheit = (current_temp * 9/5) + 32\n",
    "print(fahrenheit)"
   ]
  },
  {
   "cell_type": "code",
   "execution_count": 82,
   "metadata": {},
   "outputs": [
    {
     "name": "stdout",
     "output_type": "stream",
     "text": [
      "0.09\n"
     ]
    }
   ],
   "source": [
    "cm = float(input(\"Enter the length in centimeters: \"))\n",
    "meters = cm / 100\n",
    "print(meters)"
   ]
  },
  {
   "cell_type": "code",
   "execution_count": 4,
   "metadata": {},
   "outputs": [
    {
     "name": "stdout",
     "output_type": "stream",
     "text": [
      "62940.0\n"
     ]
    }
   ],
   "source": [
    "USD = float(input(\"USD:\"))\n",
    "exchange_rate = float(input(\"Enter the exchange rate (MMK to USD): \"))\n",
    "mmk = exchange_rate*USD\n",
    "print(mmk)"
   ]
  },
  {
   "cell_type": "code",
   "execution_count": 9,
   "metadata": {},
   "outputs": [
    {
     "name": "stdout",
     "output_type": "stream",
     "text": [
      "0.621371\n"
     ]
    }
   ],
   "source": [
    "Kilo = float(input(\"meter: \"))\n",
    "miles = Kilo* 0.621371\n",
    "print(miles)"
   ]
  },
  {
   "cell_type": "code",
   "execution_count": 17,
   "metadata": {},
   "outputs": [
    {
     "name": "stdout",
     "output_type": "stream",
     "text": [
      "Your BMI is 0.05, which falls into the category: Underweight.\n"
     ]
    }
   ],
   "source": [
    "def calculate_bmi(weight_kg, height_m):\n",
    "    # BMI formula: weight (kg) / (height (m) * height (m))\n",
    "    bmi = weight_kg / (height_m ** 2)\n",
    "    return bmi\n",
    "\n",
    "def categorize_bmi(bmi):\n",
    "    if bmi < 18.5:\n",
    "        return \"Underweight\"\n",
    "    elif 18.5 <= bmi < 24.9:\n",
    "        return \"Normal weight\"\n",
    "    elif 25 <= bmi < 29.9:\n",
    "        return \"Overweight\"\n",
    "    else:\n",
    "        return \"Obesity\"\n",
    "    \n",
    "weight = float(input(\"Enter your weight in kilograms: \"))\n",
    "height = float(input(\"Enter your height in meters: \"))\n",
    "\n",
    "bmi = calculate_bmi(weight, height)\n",
    "category = categorize_bmi(bmi)\n",
    "\n",
    "print(f\"Your BMI is {bmi:.2f}, which falls into the category: {category}.\")"
   ]
  },
  {
   "cell_type": "code",
   "execution_count": 18,
   "metadata": {},
   "outputs": [
    {
     "name": "stdout",
     "output_type": "stream",
     "text": [
      "Welcome to the Number Guessing Game!\n",
      "I'm thinking of a number between 1 and 100.\n",
      "Too low! Try again.\n",
      "Too low! Try again.\n",
      "Too low! Try again.\n"
     ]
    }
   ],
   "source": [
    "import random\n",
    "\n",
    "def guess_number_game():\n",
    "    # Set the range for the random number\n",
    "    lower_bound = 1\n",
    "    upper_bound = 100\n",
    "\n",
    "    # Generate a random number between lower_bound and upper_bound\n",
    "    number_to_guess = random.randint(lower_bound, upper_bound)\n",
    "    attempts = 0\n",
    "\n",
    "    print(f\"Welcome to the Number Guessing Game!\")\n",
    "    print(f\"I'm thinking of a number between {lower_bound} and {upper_bound}.\")\n",
    "\n",
    "    while True:\n",
    "        # Get the user's guess\n",
    "        guess = int(input(\"Enter your guess: \"))\n",
    "        attempts += 1\n",
    "\n",
    "        # Check if the guess is correct\n",
    "        if guess < number_to_guess:\n",
    "            print(\"Too low! Try again.\")\n",
    "        elif guess > number_to_guess:\n",
    "            print(\"Too high! Try again.\")\n",
    "        else:\n",
    "            print(f\"Congratulations! You've guessed the number {number_to_guess} in {attempts} attempts.\")\n",
    "            break\n",
    "\n",
    "# Start the game\n",
    "guess_number_game()\n"
   ]
  },
  {
   "cell_type": "code",
   "execution_count": 6,
   "metadata": {},
   "outputs": [
    {
     "ename": "IndexError",
     "evalue": "list index out of range",
     "output_type": "error",
     "traceback": [
      "\u001b[0;31m---------------------------------------------------------------------------\u001b[0m",
      "\u001b[0;31mIndexError\u001b[0m                                Traceback (most recent call last)",
      "Cell \u001b[0;32mIn[6], line 48\u001b[0m\n\u001b[1;32m     46\u001b[0m \u001b[38;5;66;03m# Example usage:\u001b[39;00m\n\u001b[1;32m     47\u001b[0m birth_date \u001b[38;5;241m=\u001b[39m \u001b[38;5;28minput\u001b[39m(\u001b[38;5;124m\"\u001b[39m\u001b[38;5;124mEnter your birth date (YYYY-MM-DD): \u001b[39m\u001b[38;5;124m\"\u001b[39m)\n\u001b[0;32m---> 48\u001b[0m day, month \u001b[38;5;241m=\u001b[39m \u001b[38;5;28mmap\u001b[39m(\u001b[38;5;28mint\u001b[39m, birth_date\u001b[38;5;241m.\u001b[39msplit(\u001b[38;5;124m'\u001b[39m\u001b[38;5;124m-\u001b[39m\u001b[38;5;124m'\u001b[39m)[\u001b[38;5;241m2\u001b[39m:]), \u001b[38;5;28mmap\u001b[39m(\u001b[38;5;28mint\u001b[39m, \u001b[43mbirth_date\u001b[49m\u001b[38;5;241;43m.\u001b[39;49m\u001b[43msplit\u001b[49m\u001b[43m(\u001b[49m\u001b[38;5;124;43m'\u001b[39;49m\u001b[38;5;124;43m-\u001b[39;49m\u001b[38;5;124;43m'\u001b[39;49m\u001b[43m)\u001b[49m\u001b[43m[\u001b[49m\u001b[38;5;241;43m1\u001b[39;49m\u001b[43m]\u001b[49m)\n\u001b[1;32m     49\u001b[0m zodiac_sign \u001b[38;5;241m=\u001b[39m get_zodiac_sign(day, month)\n\u001b[1;32m     50\u001b[0m prediction \u001b[38;5;241m=\u001b[39m get_prediction(zodiac_sign)\n",
      "\u001b[0;31mIndexError\u001b[0m: list index out of range"
     ]
    }
   ],
   "source": [
    "from datetime import datetime\n",
    "\n",
    "def get_zodiac_sign(day, month):\n",
    "    if (month == 1 and day >= 20) or (month == 2 and day <= 18):\n",
    "        return \"Aquarius\"\n",
    "    elif (month == 2 and day >= 19) or (month == 3 and day <= 20):\n",
    "        return \"Pisces\"\n",
    "    elif (month == 3 and day >= 21) or (month == 4 and day <= 19):\n",
    "        return \"Aries\"\n",
    "    elif (month == 4 and day >= 20) or (month == 5 and day <= 20):\n",
    "        return \"Taurus\"\n",
    "    elif (month == 5 and day >= 21) or (month == 6 and day <= 20):\n",
    "        return \"Gemini\"\n",
    "    elif (month == 6 and day >= 21) or (month == 7 and day <= 22):\n",
    "        return \"Cancer\"\n",
    "    elif (month == 7 and day >= 23) or (month == 8 and day <= 22):\n",
    "        return \"Leo\"\n",
    "    elif (month == 8 and day >= 23) or (month == 9 and day <= 22):\n",
    "        return \"Virgo\"\n",
    "    elif (month == 9 and day >= 23) or (month == 10 and day <= 22):\n",
    "        return \"Libra\"\n",
    "    elif (month == 10 and day >= 23) or (month == 11 and day <= 21):\n",
    "        return \"Scorpio\"\n",
    "    elif (month == 11 and day >= 22) or (month == 12 and day <= 21):\n",
    "        return \"Sagittarius\"\n",
    "    elif (month == 12 and day >= 22) or (month == 1 and day <= 19):\n",
    "        return \"Capricorn\"\n",
    "\n",
    "def get_prediction(zodiac_sign):\n",
    "    predictions = {\n",
    "        \"Aquarius\": \"Today is a great day for new ideas and innovation.\",\n",
    "        \"Pisces\": \"Trust your intuition; it will guide you towards success.\",\n",
    "        \"Aries\": \"Be bold and take risks; your courage will be rewarded.\",\n",
    "        \"Taurus\": \"Stability and patience will bring you closer to your goals.\",\n",
    "        \"Gemini\": \"Embrace change and flexibility; it will lead to new opportunities.\",\n",
    "        \"Cancer\": \"Focus on nurturing relationships; they will be your strength.\",\n",
    "        \"Leo\": \"Show confidence and leadership; you'll inspire others around you.\",\n",
    "        \"Virgo\": \"Attention to detail and organization will help you achieve your goals.\",\n",
    "        \"Libra\": \"Seek balance and harmony in your relationships and surroundings.\",\n",
    "        \"Scorpio\": \"Embrace transformation and let go of what no longer serves you.\",\n",
    "        \"Sagittarius\": \"Adventure and exploration will bring new insights and growth.\",\n",
    "        \"Capricorn\": \"Dedication and hard work will pave the way for long-term success.\"\n",
    "    }\n",
    "    return predictions.get(zodiac_sign, \"No prediction available for this sign.\")\n",
    "\n",
    "# Example usage:\n",
    "birth_date = input(\"Enter your birth date (YYYY-MM-DD): \")\n",
    "day, month = map(int, birth_date.split('-')[2:]), map(int, birth_date.split('-')[1])\n",
    "zodiac_sign = get_zodiac_sign(day, month)\n",
    "prediction = get_prediction(zodiac_sign)\n",
    "\n",
    "print(f\"Your zodiac sign is {zodiac_sign}.\")\n",
    "print(f\"Prediction for today: {prediction}\")"
   ]
  },
  {
   "cell_type": "code",
   "execution_count": null,
   "metadata": {},
   "outputs": [],
   "source": []
  },
  {
   "cell_type": "markdown",
   "metadata": {},
   "source": [
    "## converting from celcius to farenheit , kelvin and romer "
   ]
  },
  {
   "cell_type": "code",
   "execution_count": null,
   "metadata": {},
   "outputs": [],
   "source": [
    "temp_celcus = float (input(\"Enter tempeture in celcius\"))\n",
    "\n"
   ]
  },
  {
   "cell_type": "markdown",
   "metadata": {},
   "source": [
    "## maths function "
   ]
  },
  {
   "cell_type": "code",
   "execution_count": null,
   "metadata": {},
   "outputs": [],
   "source": [
    "round(2.45, 1) \n",
    "round( -1.256, 3)\n",
    "round(986,-2)"
   ]
  },
  {
   "cell_type": "code",
   "execution_count": null,
   "metadata": {},
   "outputs": [],
   "source": []
  },
  {
   "cell_type": "markdown",
   "metadata": {},
   "source": [
    "## Turtle libary "
   ]
  },
  {
   "cell_type": "code",
   "execution_count": 7,
   "metadata": {},
   "outputs": [],
   "source": [
    "# importing Libary \n",
    "import turtle \n"
   ]
  }
 ],
 "metadata": {
  "kernelspec": {
   "display_name": "oneminutelearn",
   "language": "python",
   "name": "python3"
  },
  "language_info": {
   "codemirror_mode": {
    "name": "ipython",
    "version": 3
   },
   "file_extension": ".py",
   "mimetype": "text/x-python",
   "name": "python",
   "nbconvert_exporter": "python",
   "pygments_lexer": "ipython3",
   "version": "3.12.4"
  }
 },
 "nbformat": 4,
 "nbformat_minor": 2
}
